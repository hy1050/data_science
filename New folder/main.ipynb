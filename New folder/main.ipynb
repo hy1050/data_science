{
 "cells": [
  {
   "cell_type": "code",
   "execution_count": 80,
   "source": [
    "from selenium import webdriver\r\n",
    "from selenium.webdriver.common.keys import Keys\r\n",
    "from time import sleep\r\n",
    "from bs4 import BeautifulSoup"
   ],
   "outputs": [],
   "metadata": {}
  },
  {
   "cell_type": "code",
   "execution_count": 81,
   "source": [
    "credential = open('info.txt')\r\n",
    "line = credential.readlines()\r\n",
    "email = line[0]\r\n",
    "password = line[1]"
   ],
   "outputs": [],
   "metadata": {}
  },
  {
   "cell_type": "code",
   "execution_count": 82,
   "source": [
    "driver =  webdriver.Edge(\"C:\\Program Files (x86)\\edgedriver_win64\\msedgedriver.exe\")\r\n",
    "url = 'http://www.linkedin.com/login'\r\n",
    "driver.get(url)\r\n",
    "sleep(2)"
   ],
   "outputs": [],
   "metadata": {}
  },
  {
   "cell_type": "code",
   "execution_count": 83,
   "source": [
    "email_field = driver.find_element_by_id('username')\r\n",
    "email_field.send_keys(email)\r\n",
    "sleep(3)\r\n",
    "\r\n",
    "password_field = driver.find_element_by_name('session_password')\r\n",
    "password_field.send_keys(password)\r\n",
    "sleep(2)"
   ],
   "outputs": [],
   "metadata": {}
  },
  {
   "cell_type": "code",
   "execution_count": 84,
   "source": [
    "login_field = driver.find_element_by_xpath('//*[@id=\"organic-div\"]/form/div[3]/button')\r\n",
    "login_field.click()\r\n",
    "sleep(3)"
   ],
   "outputs": [],
   "metadata": {}
  },
  {
   "cell_type": "code",
   "execution_count": 85,
   "source": [
    "search_query = input('What do you want to search for?')\r\n",
    "search_field = driver.find_element_by_xpath('//*[@id=\"global-nav-typeahead\"]/input')\r\n",
    "search_field.send_keys(search_query)\r\n",
    "search_field.send_keys(Keys.RETURN)"
   ],
   "outputs": [],
   "metadata": {}
  },
  {
   "cell_type": "code",
   "execution_count": 86,
   "source": [
    "# search_field.send_keys(Keys.SHIFT, Keys.HOME, Keys.DELETE)\r\n",
    "# class=\"artdeco-pill artdeco-pill--slate artdeco-pill--2 artdeco-pill--choice ember-view search-reusables__filter-pill-button\""
   ],
   "outputs": [],
   "metadata": {}
  },
  {
   "cell_type": "code",
   "execution_count": 90,
   "source": [
    "people_field = driver.find_element_by_class_name('artdeco-pill')\r\n",
    "people_field.click()"
   ],
   "outputs": [],
   "metadata": {}
  },
  {
   "cell_type": "code",
   "execution_count": 91,
   "source": [
    "def GetURL():\r\n",
    "    page_source = BeautifulSoup(driver.page_source)\r\n",
    "    profiles = page_source.find_all('a', class_='search-result__result-link ember-view')\r\n",
    "    all_profile_URL = []\r\n",
    "    for profile in profiles:\r\n",
    "        profile_ID = profile.get('href')\r\n",
    "        profile_URL = \"https://www.linkedin.com\" + profile_ID\r\n",
    "        if profile_URL not in all_profile_URL:\r\n",
    "            all_profile_URL.append(profile_URL)\r\n",
    "    return all_profile_URL\r\n",
    "print(GetURL())"
   ],
   "outputs": [
    {
     "output_type": "stream",
     "name": "stdout",
     "text": [
      "[]\n"
     ]
    }
   ],
   "metadata": {}
  },
  {
   "cell_type": "code",
   "execution_count": 92,
   "source": [
    "def GetURLsonPages():\r\n",
    "    input_page = int(input('How many pages you want to scrape: '))\r\n",
    "    URLs_all_page = []\r\n",
    "    for page in range(input_page):\r\n",
    "        URLs_one_page = GetURL()\r\n",
    "        sleep(2)\r\n",
    "        driver.execute_script('window.scrollTo(0,document.body.scrollHeight);')\r\n",
    "        sleep(2)\r\n",
    "        next_button = driver.find_element_by_class_name('artdeco-pagination__button--next')\r\n",
    "        next_button.click()\r\n",
    "        URLs_all_page += URLs_one_page\r\n",
    "        sleep(2)\r\n",
    "    return URLs_all_page\r\n",
    "GetURLsonPages()"
   ],
   "outputs": [
    {
     "output_type": "execute_result",
     "data": {
      "text/plain": [
       "[]"
      ]
     },
     "metadata": {},
     "execution_count": 92
    }
   ],
   "metadata": {}
  },
  {
   "cell_type": "code",
   "execution_count": null,
   "source": [
    "with open('ouput.csv', 'w', newline= '') as file_output:\r\n",
    "    headers = ['Name', 'Job Title', 'Location', 'URL']\r\n",
    "    writer = csv.DictWriter(file_ouput, delimiter= ',', lineterminator='\\n', fieldnames=headers)\r\n",
    "    writer.writeheader()\r\n",
    "    for linkedin_URL in URLs_all_page:\r\n",
    "        driver.get(linkedin_URL)\r\n",
    "        sleep(2)\r\n",
    "        page_source = driver.page_source\r\n",
    "        soup = BeautifulSoup(page_source, \"html.parser\")\r\n",
    "        \r\n",
    "        info_div = page_source.find('div', class_=\"flex-1 mr5\")\r\n",
    "        info_loc = info_div.find_all('ul')\r\n",
    "        name = info_loc[0].find('li').get_text().strip()\r\n",
    "        location = info_loc[1].find('li').get_text().strip()\r\n",
    "        profile_tittle = info_loc[1].find('h2').get_text().strip()\r\n",
    "    witer.writerow({headers[0]:name, headers[1]:location, headers[2]:profile_title, headers[3]:linkedin_profile})"
   ],
   "outputs": [],
   "metadata": {}
  }
 ],
 "metadata": {
  "orig_nbformat": 4,
  "language_info": {
   "name": "python",
   "version": "3.9.1",
   "mimetype": "text/x-python",
   "codemirror_mode": {
    "name": "ipython",
    "version": 3
   },
   "pygments_lexer": "ipython3",
   "nbconvert_exporter": "python",
   "file_extension": ".py"
  },
  "kernelspec": {
   "name": "python3",
   "display_name": "Python 3.9.1 64-bit"
  },
  "interpreter": {
   "hash": "74cb40a696dbf6683e4c9267380a667978b08e4909fcb0ff9521687620bb8033"
  }
 },
 "nbformat": 4,
 "nbformat_minor": 2
}