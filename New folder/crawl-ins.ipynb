{
 "cells": [
  {
   "cell_type": "code",
   "execution_count": 1,
   "metadata": {},
   "outputs": [],
   "source": [
    "from selenium import webdriver\n",
    "from selenium.webdriver.common.keys import Keys\n",
    "from time import sleep\n",
    "from bs4 import BeautifulSoup\n",
    "import csv\n",
    "import io"
   ]
  },
  {
   "cell_type": "code",
   "execution_count": 28,
   "metadata": {},
   "outputs": [],
   "source": [
    "u_info = open('info.txt')\n",
    "line = u_info.readlines()\n",
    "email = line[0]\n",
    "password = line[1]\n",
    "users = {'User-Agent': 'Mozilla/5.0 (Macintosh; Intel Mac OS X 10_10_1) AppleWebKit/537.36 (KHTML, like Gecko) Chrome/39.0.2171.95 Safari/537.36'}\n"
   ]
  },
  {
   "cell_type": "code",
   "execution_count": 29,
   "metadata": {},
   "outputs": [],
   "source": [
    "driver =  webdriver.Edge(\"D:\\Downloads\\Compressed\\edgedriver_win64_2\\msedgedriver.exe\")\n",
    "url = 'https://www.instagram.com/'\n",
    "driver.get(url)\n",
    "sleep(2)"
   ]
  },
  {
   "cell_type": "code",
   "execution_count": 30,
   "metadata": {},
   "outputs": [],
   "source": [
    "signup_field = driver.find_element_by_xpath('//*[@id=\"loginForm\"]/div/div[5]/button')\n",
    "signup_field.click()"
   ]
  },
  {
   "cell_type": "code",
   "execution_count": 31,
   "metadata": {},
   "outputs": [],
   "source": [
    "email_field = driver.find_element_by_name('email')\n",
    "email_field.send_keys(email)\n",
    "sleep(2)\n",
    "\n",
    "password_field = driver.find_element_by_id('pass')\n",
    "password_field.send_keys(password)\n",
    "sleep(1)\n",
    "\n",
    "login_field = driver.find_element_by_xpath('//*[@id=\"loginbutton\"]')\n",
    "login_field.click()\n",
    "sleep(10)\n"
   ]
  },
  {
   "cell_type": "code",
   "execution_count": 32,
   "metadata": {},
   "outputs": [],
   "source": [
    "login2_field = driver.find_element_by_class_name('aOOlW.HoLwm')\n",
    "login2_field.click()\n",
    "sleep(5)\n"
   ]
  },
  {
   "cell_type": "code",
   "execution_count": 33,
   "metadata": {},
   "outputs": [],
   "source": [
    "see_all_field = driver.find_element_by_xpath('//*[@id=\"react-root\"]/section/main/section/div[3]/div[2]/div[1]/a/div')\n",
    "see_all_field.click()\n",
    "sleep(2)\n"
   ]
  },
  {
   "cell_type": "code",
   "execution_count": 38,
   "metadata": {},
   "outputs": [],
   "source": [
    "page_source = BeautifulSoup(driver.page_source)\n",
    "profiles = page_source.find_all('a', class_='notranslate')\n",
    "all_profile_URL = []\n",
    "for profile in profiles:\n",
    "    profile_ID = profile.get('href')\n",
    "    profile_URL = \"https://www.instagram.com\" + profile_ID\n",
    "    if profile_URL not in all_profile_URL:\n",
    "        all_profile_URL.append(profile_URL)"
   ]
  },
  {
   "cell_type": "code",
   "execution_count": 36,
   "metadata": {},
   "outputs": [
    {
     "name": "stdout",
     "output_type": "stream",
     "text": [
      "['https://www.instagram.com/kenro_rcd/', 'https://www.instagram.com/girl.music.19/', 'https://www.instagram.com/punballofficial/', 'https://www.instagram.com/icepdecor/', 'https://www.instagram.com/kiena_thietke_thicong/', 'https://www.instagram.com/aivietnam.edu.vn/', 'https://www.instagram.com/carikysu_lqm/', 'https://www.instagram.com/tino_menswear/', 'https://www.instagram.com/langdanhvonglienquan/', 'https://www.instagram.com/greenacademyvn/', 'https://www.instagram.com/phongdiy/', 'https://www.instagram.com/chloeadamsmusic/', 'https://www.instagram.com/mailinhzutoo/', 'https://www.instagram.com/lifeis.blackpink/', 'https://www.instagram.com/edmdanangcommunity/', 'https://www.instagram.com/shopgiaymwc/', 'https://www.instagram.com/heart_usuk/', 'https://www.instagram.com/editorx/', 'https://www.instagram.com/adidasvietnam.vn/', 'https://www.instagram.com/eoniqdesign/', 'https://www.instagram.com/theanh28entertainment/', 'https://www.instagram.com/xony.clothes/', 'https://www.instagram.com/purl0w/', 'https://www.instagram.com/gypsy.lala/', 'https://www.instagram.com/phoidostyle/', 'https://www.instagram.com/_colly.19/', 'https://www.instagram.com/ninh.duong.lan.ngoc/', 'https://www.instagram.com/lienquanmobile/', 'https://www.instagram.com/ha_hoang0104/', 'https://www.instagram.com/vuong.shop/', 'https://www.instagram.com/heroescharge/', 'https://www.instagram.com/hoaminzy_rose/', 'https://www.instagram.com/junvu95/', 'https://www.instagram.com/__hanhbichtran__/', 'https://www.instagram.com/kendalljenner/', 'https://www.instagram.com/sithanh/', 'https://www.instagram.com/skechart88/', 'https://www.instagram.com/hienho2620/', 'https://www.instagram.com/kinglnd/', 'https://www.instagram.com/hcmutetv/', 'https://www.instagram.com/spacet_vn/', 'https://www.instagram.com/ngoctrinh89/', 'https://www.instagram.com/chanchan.0411/', 'https://www.instagram.com/nhat.anh.trang/', 'https://www.instagram.com/huoggiangggg/', 'https://www.instagram.com/29.mimm/', 'https://www.instagram.com/pets.s8/', 'https://www.instagram.com/hongocha/', 'https://www.instagram.com/baoanh0309/', 'https://www.instagram.com/selenagomez/', 'https://www.instagram.com/thieubaotram/', 'https://www.instagram.com/kyduyen1311/', 'https://www.instagram.com/natgeo/', 'https://www.instagram.com/thepizzacompanyvn.official/', 'https://www.instagram.com/nganha.203/', 'https://www.instagram.com/hack.insider/', 'https://www.instagram.com/80s_sound/', 'https://www.instagram.com/chipupu/']\n"
     ]
    }
   ],
   "source": [
    "def Get_URL():\n",
    "    page_source = BeautifulSoup(driver.page_source)\n",
    "    profiles = page_source.find_all('a', class_='FPmhX notranslate MBL3Z')\n",
    "    all_profile_URL = []\n",
    "    for profile in profiles:\n",
    "        profile_ID = profile.get('href')\n",
    "        profile_URL = \"https://www.instagram.com\" + profile_ID\n",
    "        if profile_URL not in all_profile_URL:\n",
    "            all_profile_URL.append(profile_URL)\n",
    "    return all_profile_URL\n",
    "print(all_profile_URL)"
   ]
  },
  {
   "cell_type": "code",
   "execution_count": 39,
   "metadata": {},
   "outputs": [
    {
     "name": "stdout",
     "output_type": "stream",
     "text": [
      "99\n"
     ]
    }
   ],
   "source": [
    "print(len(all_profile_URL))"
   ]
  },
  {
   "cell_type": "code",
   "execution_count": 23,
   "metadata": {},
   "outputs": [
    {
     "name": "stdout",
     "output_type": "stream",
     "text": [
      "https://www.instagram.com/kenro_rcd/\n",
      "https://www.instagram.com/girl.music.19/\n",
      "https://www.instagram.com/punballofficial/\n",
      "https://www.instagram.com/icepdecor/\n",
      "https://www.instagram.com/kiena_thietke_thicong/\n",
      "https://www.instagram.com/aivietnam.edu.vn/\n",
      "https://www.instagram.com/carikysu_lqm/\n",
      "https://www.instagram.com/tino_menswear/\n",
      "https://www.instagram.com/langdanhvonglienquan/\n",
      "https://www.instagram.com/greenacademyvn/\n",
      "https://www.instagram.com/phongdiy/\n",
      "https://www.instagram.com/chloeadamsmusic/\n",
      "https://www.instagram.com/mailinhzutoo/\n",
      "https://www.instagram.com/lifeis.blackpink/\n",
      "https://www.instagram.com/edmdanangcommunity/\n",
      "https://www.instagram.com/shopgiaymwc/\n",
      "https://www.instagram.com/heart_usuk/\n",
      "https://www.instagram.com/editorx/\n",
      "https://www.instagram.com/adidasvietnam.vn/\n",
      "https://www.instagram.com/eoniqdesign/\n",
      "https://www.instagram.com/theanh28entertainment/\n",
      "https://www.instagram.com/xony.clothes/\n",
      "https://www.instagram.com/purl0w/\n",
      "https://www.instagram.com/gypsy.lala/\n",
      "https://www.instagram.com/phoidostyle/\n",
      "https://www.instagram.com/_colly.19/\n",
      "https://www.instagram.com/ninh.duong.lan.ngoc/\n",
      "https://www.instagram.com/lienquanmobile/\n",
      "https://www.instagram.com/ha_hoang0104/\n",
      "https://www.instagram.com/vuong.shop/\n",
      "https://www.instagram.com/heroescharge/\n",
      "https://www.instagram.com/hoaminzy_rose/\n",
      "https://www.instagram.com/junvu95/\n",
      "https://www.instagram.com/__hanhbichtran__/\n",
      "https://www.instagram.com/kendalljenner/\n",
      "https://www.instagram.com/sithanh/\n",
      "https://www.instagram.com/skechart88/\n",
      "https://www.instagram.com/hienho2620/\n",
      "https://www.instagram.com/kinglnd/\n",
      "https://www.instagram.com/hcmutetv/\n",
      "https://www.instagram.com/spacet_vn/\n",
      "https://www.instagram.com/ngoctrinh89/\n",
      "https://www.instagram.com/chanchan.0411/\n",
      "https://www.instagram.com/nhat.anh.trang/\n",
      "https://www.instagram.com/huoggiangggg/\n",
      "https://www.instagram.com/29.mimm/\n",
      "https://www.instagram.com/pets.s8/\n",
      "https://www.instagram.com/hongocha/\n",
      "https://www.instagram.com/baoanh0309/\n",
      "https://www.instagram.com/selenagomez/\n",
      "https://www.instagram.com/thieubaotram/\n",
      "https://www.instagram.com/kyduyen1311/\n",
      "https://www.instagram.com/natgeo/\n",
      "https://www.instagram.com/thepizzacompanyvn.official/\n",
      "https://www.instagram.com/nganha.203/\n",
      "https://www.instagram.com/hack.insider/\n",
      "https://www.instagram.com/80s_sound/\n",
      "https://www.instagram.com/chipupu/\n"
     ]
    }
   ],
   "source": [
    "with io.open('ins_info2.csv', 'w', newline='', encoding='utf-8') as file_output:\n",
    "    headers = ['Name', 'Avt', 'Posts', 'Followers', 'Following', 'URL', 'Fb_link']\n",
    "    writer = csv.DictWriter(file_output, delimiter=',', lineterminator='\\n', fieldnames=headers)\n",
    "    writer.writeheader()\n",
    "    for ins_URL in all_profile_URL:\n",
    "        print(ins_URL)\n",
    "        driver.get(ins_URL)\n",
    "        sleep(4)\n",
    "        page_source = BeautifulSoup(driver.page_source, \"html.parser\")\n",
    "        try:\n",
    "            info_avt1 = page_source.find_all('img', class_='be6sR')[0].get('src').strip()\n",
    "        except:\n",
    "            info_avt1 = \"\"\n",
    "        try:\n",
    "            info_avt2 = page_source.find_all('img', class_='_6q-tv')[0].get('src').strip()\n",
    "        except:\n",
    "            info_avt2 = \"\"\n",
    "        info_avt = info_avt1 + info_avt2    \n",
    "        \n",
    "        try:\n",
    "            info_name = page_source.find_all('span', class_=\"_7UhW9 vy6Bb qyrsm KV-D4 se6yk T0kll\")[0].get_text().strip()\n",
    "        except:\n",
    "            info_name = \"\"\n",
    "            \n",
    "        try:\n",
    "            info_post = page_source.find_all('span', class_='g47SY')[0].get_text().strip()\n",
    "        except:\n",
    "            info_post = \"\"\n",
    "        \n",
    "        try:\n",
    "            info_follower = page_source.find_all('span', class_='g47SY')[1].get_text().strip()\n",
    "        except:\n",
    "            info_follower = \"\"\n",
    "        \n",
    "        try:\n",
    "            info_following = page_source.find_all('span', class_='g47SY')[2].get_text().strip()\n",
    "        except:\n",
    "            info_following = \"\"\n",
    "            \n",
    "        try:\n",
    "            info_linkfb = page_source.find_all('div', class_=\"_7UhW9 vy6Bb qyrsm tx0Md fDxYl T0kll\")[0].get('href').strip()\n",
    "        except:\n",
    "            info_linkfb = \"\"\n",
    "        writer.writerow({headers[0]: info_name, headers[1]: info_avt, headers[2]: info_post, headers[3]: info_follower, headers[4]: info_following, headers[5]: ins_URL, headers[6]: info_linkfb})"
   ]
  },
  {
   "cell_type": "code",
   "execution_count": 26,
   "metadata": {},
   "outputs": [
    {
     "name": "stdout",
     "output_type": "stream",
     "text": [
      "https://www.instagram.com/29.mimm/\n",
      "www.facebook.com/babu.cat.5\n"
     ]
    }
   ],
   "source": [
    "print(all_profile_URL[45])\n",
    "driver.get(all_profile_URL[45])\n",
    "sleep(2)\n",
    "page_source = BeautifulSoup(driver.page_source, \"html.parser\")\n",
    "\n",
    "try:\n",
    "    info_name = page_source.find_all('div', class_='_7UhW9 vy6Bb qyrsm tx0Md fDxYl T0kll')[0].get_text().strip()\n",
    "except:\n",
    "    info_name = \"\"\n",
    "\n",
    "print(info_name)"
   ]
  },
  {
   "cell_type": "code",
   "execution_count": null,
   "metadata": {},
   "outputs": [],
   "source": []
  }
 ],
 "metadata": {
  "interpreter": {
   "hash": "74cb40a696dbf6683e4c9267380a667978b08e4909fcb0ff9521687620bb8033"
  },
  "kernelspec": {
   "display_name": "Python 3.9.1 64-bit",
   "name": "python3"
  },
  "language_info": {
   "codemirror_mode": {
    "name": "ipython",
    "version": 3
   },
   "file_extension": ".py",
   "mimetype": "text/x-python",
   "name": "python",
   "nbconvert_exporter": "python",
   "pygments_lexer": "ipython3",
   "version": "3.9.1"
  },
  "orig_nbformat": 4
 },
 "nbformat": 4,
 "nbformat_minor": 2
}
